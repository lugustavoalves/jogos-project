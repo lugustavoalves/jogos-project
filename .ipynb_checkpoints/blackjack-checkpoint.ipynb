{
 "cells": [
  {
   "cell_type": "code",
   "execution_count": 1,
   "metadata": {
    "scrolled": true
   },
   "outputs": [
    {
     "name": "stdout",
     "output_type": "stream",
     "text": [
      "Seja bem vindo, vamos começar!\n"
     ]
    }
   ],
   "source": [
    "import random\n",
    "\n",
    "print(\"Seja bem vindo, vamos começar!\")"
   ]
  },
  {
   "cell_type": "code",
   "execution_count": 2,
   "metadata": {},
   "outputs": [
    {
     "name": "stdout",
     "output_type": "stream",
     "text": [
      "Quantos rounds você gostaria de jogar? 5\n",
      "5 Rounds\n"
     ]
    }
   ],
   "source": [
    "nRounds = 0\n",
    "while nRounds == 0:\n",
    "    nRounds = int(input(\"Quantos rounds você gostaria de jogar? \"))\n",
    "    if nRounds % 2 != 0:\n",
    "        print(nRounds, \"Rounds\")\n",
    "    else:\n",
    "        print(\"O número de rounds tem que ser ímpar.\")\n",
    "        nRounds = 0"
   ]
  },
  {
   "cell_type": "code",
   "execution_count": 3,
   "metadata": {},
   "outputs": [
    {
     "name": "stdout",
     "output_type": "stream",
     "text": [
      "O primeiro a ganhar 3 rounds vence!\n"
     ]
    }
   ],
   "source": [
    "roundsToWin = int(nRounds / 2 + 1)\n",
    "print(\"O primeiro a ganhar\", roundsToWin, \"rounds vence!\")"
   ]
  },
  {
   "cell_type": "code",
   "execution_count": 4,
   "metadata": {},
   "outputs": [],
   "source": [
    "baralho = [\"As\", \"Ad\", \"Ah\", \"Ac\", \"As\", \"Ad\", \"Ah\", \"Ac\", \"2s\", \"2d\", \"2h\", \"2c\", \"2s\", \"2d\", \"2h\", \"2c\", \"3s\", \"3d\", \"3h\", \"3c\", \"3s\", \"3d\", \"3h\", \"3c\", \"4s\", \"4d\", \"4h\", \"4c\", \"4s\", \"4d\", \"4h\", \"4c\", \"5s\", \"5d\", \"5h\", \"5c\", \"5s\", \"5d\", \"5h\", \"5c\", \"6s\", \"6d\", \"6h\", \"6c\", \"6s\", \"6d\", \"6h\", \"6c\", \"7s\", \"7d\", \"7h\", \"7c\", \"7s\", \"7d\", \"7h\", \"7c\", \"8s\", \"8d\", \"8h\", \"8c\", \"8s\", \"8d\", \"8h\", \"8c\", \"9s\", \"9d\", \"9h\", \"9c\", \"9s\", \"9d\", \"9h\", \"9c\", \"10s\", \"10d\", \"10h\", \"10c\", \"10s\", \"10d\", \"10h\", \"10c\", \"Js\", \"Jd\", \"Jh\", \"Jc\", \"Js\", \"Jd\", \"Jh\", \"Jc\", \"Qs\", \"Qd\", \"Qh\", \"Qc\", \"Qs\", \"Qd\", \"Qh\", \"Qc\", \"Ks\", \"Kd\", \"Kh\", \"Kc\", \"Ks\", \"Kd\", \"Kh\", \"Kc\"]\n",
    "\n",
    "baralhoValue = [1, 2, 3, 4, 5, 6, 7, 8, 9, 10, 11]\n",
    "\n",
    "baralhoUsed = []\n",
    "\n",
    "'''\n",
    "baralho[72:80]\n",
    "baralho[80:88]\n",
    "baralho[88:96]\n",
    "baralho[96:104]\n",
    "'''\n",
    "\n",
    "\n",
    "def valores(carta):\n",
    "    if carta in baralho[8:16]:\n",
    "        carta = baralhoValue[1]\n",
    "    elif carta in baralho[16:24]:\n",
    "        carta = baralhoValue[2]\n",
    "    elif carta in baralho[24:32]:\n",
    "        carta = baralhoValue[3]\n",
    "    elif carta in baralho[32:40]:\n",
    "        carta = baralhoValue[4]\n",
    "    elif carta in baralho[40:48]:\n",
    "        carta = baralhoValue[5]\n",
    "    elif carta in baralho[48:56]:\n",
    "        carta = baralhoValue[6]\n",
    "    elif carta in baralho[56:64]:\n",
    "        carta = baralhoValue[7]\n",
    "    elif carta in baralho[64:72]:\n",
    "        carta = baralhoValue[8]\n",
    "    elif carta in baralho[72:104]:\n",
    "        carta = baralhoValue[9]\n",
    "    elif carta in baralho[0:8]:\n",
    "        carta = baralhoValue[10]\n",
    "    \n",
    "    return carta\n",
    "\n",
    "def printing(x, y):\n",
    "    print(\"sua mão é: \\n\", x, valorMaoUsu)\n",
    "    print(\"Mão da banca: \\n\", y, valorMaoCpu)\n",
    "    print(\"\\n\")\n",
    "\n",
    "        \n",
    "        "
   ]
  },
  {
   "cell_type": "code",
   "execution_count": null,
   "metadata": {},
   "outputs": [
    {
     "name": "stdout",
     "output_type": "stream",
     "text": [
      "Primeiro round!\n",
      "sua mão é: \n",
      " ['6c', '9h'] 15\n",
      "Mão da banca: \n",
      " ['6c'] 6\n",
      "\n",
      "\n",
      "+1 carta ou parar? +1\n",
      "HIT! \n",
      "\n",
      "sua mão agora é: \n",
      " ['6c', '9h', '10h'] 25\n",
      "Estorou!\n",
      "Você: 0 CPU: 1\n",
      "['6c', '10h'] 16\n",
      "sua mão é: \n",
      " [] 0\n",
      "Mão da banca: \n",
      " ['6c', '10h'] 16\n",
      "\n",
      "\n",
      "O CPU venceu esse round. :/\n",
      "Você: 0 CPU: 2 \n",
      "\n",
      "sua mão é: \n",
      " ['Qd', 'Ah'] 21\n",
      "Mão da banca: \n",
      " ['Jh'] 10\n",
      "\n",
      "\n",
      "BLACKJACK!! \n",
      " Você: 1 CPU: 2\n",
      "['Jh', '7s'] 17\n",
      "sua mão é: \n",
      " ['Qd', 'Ah'] 21\n",
      "Mão da banca: \n",
      " ['Jh', '7s'] 17\n",
      "\n",
      "\n",
      "Você venceu esse round!\n",
      "Você: 2 CPU: 2 \n",
      "\n",
      "sua mão é: \n",
      " ['5c', '5d'] 10\n",
      "Mão da banca: \n",
      " ['Ac'] 11\n",
      "\n",
      "\n"
     ]
    }
   ],
   "source": [
    "print(\"Primeiro round!\")\n",
    "\n",
    "maoCpu = []\n",
    "maoUsu = []\n",
    "pontosCpu = 0\n",
    "pontosUsu = 0\n",
    "a = False\n",
    "\n",
    "while pontosCpu <= roundsToWin or pontosUsu <= roundsToWin:\n",
    "    maoUsu = [random.choice(baralho)]\n",
    "    valorMaoUsu = valores(maoUsu[0])\n",
    "    maoUsu.append(random.choice(baralho))\n",
    "    valorMaoUsu += valores(maoUsu[1])\n",
    "\n",
    "    maoCpu = [random.choice(baralho)]\n",
    "    valorMaoCpu = valores(maoCpu[0]) \n",
    "    acaoUsu = []\n",
    "    \n",
    "    printing(maoUsu, maoCpu)\n",
    "\n",
    "    if valorMaoUsu == 21:\n",
    "        pontosUsu += 1\n",
    "        print(\"BLACKJACK!! \\n\", \"Você:\", pontosUsu, \"CPU:\", pontosCpu)\n",
    "        acaoUsu = \"full\"\n",
    "        pass\n",
    "        \n",
    "    while acaoUsu == [] or acaoUsu == [\"+1\"]:\n",
    "        acaoUsu = input(\"+1 carta ou parar? \")\n",
    "        if acaoUsu == \"+1\":\n",
    "            print(\"HIT! \\n\")\n",
    "            maoUsu.append(random.choice(baralho))\n",
    "            valorMaoUsu += valores(maoUsu[-1])\n",
    "            print(\"sua mão agora é: \\n\", maoUsu, valorMaoUsu)\n",
    "            if valorMaoUsu > 21:\n",
    "                print(\"Estorou!\")\n",
    "                pontosCpu += 1\n",
    "                print(\"Você:\", pontosUsu, \"CPU:\", pontosCpu)\n",
    "                a = True\n",
    "                maoUsu = []\n",
    "                valorMaoUsu = 0\n",
    "                break\n",
    "            else:\n",
    "                acaoUsu = []\n",
    "        elif acaoUsu == \"parar\":\n",
    "            print(\"STAND! \\n\")\n",
    "        else:\n",
    "            print(\"Por favor escolha '+1' ou 'parar'.\")\n",
    "            acaoUsu = []\n",
    "      \n",
    "    \n",
    "        if a is True:\n",
    "            pass\n",
    "    \n",
    "    maoCpu.append(random.choice(baralho))\n",
    "    valorMaoCpu += valores(maoCpu[1])\n",
    "    print(maoCpu, valorMaoCpu)\n",
    "    \n",
    "    if valorMaoCpu >= 16 and valorMaoCpu <= 21:\n",
    "        printing(maoUsu, maoCpu)\n",
    "        if valorMaoUsu > valorMaoCpu:\n",
    "            pontosUsu += 1\n",
    "            print(\"Você venceu esse round!\")\n",
    "        elif valorMaoUsu < valorMaoCpu:\n",
    "            pontosCpu += 1\n",
    "            print(\"O CPU venceu esse round. :/\")\n",
    "        else:\n",
    "            print(\"Empate, o placar continua o mesmo.\")\n",
    "         \n",
    "    elif valorMaoCpu < 16:\n",
    "        maoCpu.append(random.choice(baralho))\n",
    "        valorMaoCpu += valores(maoCpu[-1])\n",
    "        printing(maoUsu, maoCpu)\n",
    "        if valorMaoCpu > 21:\n",
    "            pontosUsu += 1\n",
    "            print(\"A banca estourou, você ganhou esse round.\")\n",
    "        elif valorMaoUsu > valorMaoCpu:\n",
    "            pontosUsu += 1\n",
    "            print(\"Você venceu esse round!\")\n",
    "        elif valorMaoUsu < valorMaoCpu:\n",
    "            pontosCpu += 1\n",
    "            print(\"O CPU venceu esse round. :/\")\n",
    "        else:\n",
    "            print(\"Empate, o placar continua o mesmo.\")\n",
    "         \n",
    "    \n",
    "    print(\"Você:\", pontosUsu, \"CPU:\", pontosCpu, \"\\n\")\n",
    "    \n",
    "    if pontosUsu == roundsToWin:\n",
    "        print(\"Parabens, você ganhou a partida!!!\")\n",
    "        break\n",
    "    elif pontosCpu == roundsToWin:\n",
    "        print(\"O CPU ganhou a partida. :(\")\n",
    "        break\n",
    "        \n",
    "    "
   ]
  },
  {
   "cell_type": "code",
   "execution_count": null,
   "metadata": {},
   "outputs": [],
   "source": []
  },
  {
   "cell_type": "code",
   "execution_count": null,
   "metadata": {},
   "outputs": [],
   "source": []
  },
  {
   "cell_type": "code",
   "execution_count": null,
   "metadata": {},
   "outputs": [],
   "source": []
  }
 ],
 "metadata": {
  "kernelspec": {
   "display_name": "Python 3",
   "language": "python",
   "name": "python3"
  },
  "language_info": {
   "codemirror_mode": {
    "name": "ipython",
    "version": 3
   },
   "file_extension": ".py",
   "mimetype": "text/x-python",
   "name": "python",
   "nbconvert_exporter": "python",
   "pygments_lexer": "ipython3",
   "version": "3.7.4"
  }
 },
 "nbformat": 4,
 "nbformat_minor": 2
}
